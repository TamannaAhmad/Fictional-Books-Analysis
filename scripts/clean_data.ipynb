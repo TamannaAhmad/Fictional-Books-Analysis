{
 "cells": [
  {
   "cell_type": "code",
   "execution_count": 47,
   "id": "5b25da16",
   "metadata": {},
   "outputs": [],
   "source": [
    "import pandas as pd\n",
    "import numpy as np\n",
    "import matplotlib.pyplot as plt"
   ]
  },
  {
   "cell_type": "code",
   "execution_count": 94,
   "id": "23802887",
   "metadata": {},
   "outputs": [],
   "source": [
    "df = pd.read_csv('../books.csv')"
   ]
  },
  {
   "cell_type": "code",
   "execution_count": 95,
   "id": "1293db14",
   "metadata": {},
   "outputs": [
    {
     "data": {
      "text/html": [
       "<div>\n",
       "<style scoped>\n",
       "    .dataframe tbody tr th:only-of-type {\n",
       "        vertical-align: middle;\n",
       "    }\n",
       "\n",
       "    .dataframe tbody tr th {\n",
       "        vertical-align: top;\n",
       "    }\n",
       "\n",
       "    .dataframe thead th {\n",
       "        text-align: right;\n",
       "    }\n",
       "</style>\n",
       "<table border=\"1\" class=\"dataframe\">\n",
       "  <thead>\n",
       "    <tr style=\"text-align: right;\">\n",
       "      <th></th>\n",
       "      <th>category</th>\n",
       "      <th>votes</th>\n",
       "      <th>title</th>\n",
       "      <th>description</th>\n",
       "      <th>author_name</th>\n",
       "      <th>author_about</th>\n",
       "      <th>pages</th>\n",
       "      <th>rating</th>\n",
       "      <th>ratings</th>\n",
       "      <th>reviews</th>\n",
       "      <th>publication_info</th>\n",
       "    </tr>\n",
       "  </thead>\n",
       "  <tbody>\n",
       "    <tr>\n",
       "      <th>0</th>\n",
       "      <td>Fiction</td>\n",
       "      <td>94733</td>\n",
       "      <td>The Wedding People</td>\n",
       "      <td>Alternate cover edition of ISBN 9781250899576....</td>\n",
       "      <td>Alison Espach</td>\n",
       "      <td>Alison Espach grew up in Trumbull, Connecticut...</td>\n",
       "      <td>384</td>\n",
       "      <td>4.11</td>\n",
       "      <td>678267</td>\n",
       "      <td>75724</td>\n",
       "      <td>July 30, 2024</td>\n",
       "    </tr>\n",
       "    <tr>\n",
       "      <th>1</th>\n",
       "      <td>Fiction</td>\n",
       "      <td>67268</td>\n",
       "      <td>Intermezzo</td>\n",
       "      <td>An exquisitely moving story about grief, love,...</td>\n",
       "      <td>Sally Rooney</td>\n",
       "      <td>Sally Rooney was born in 1991 and lives in Dub...</td>\n",
       "      <td>454</td>\n",
       "      <td>3.85</td>\n",
       "      <td>263221</td>\n",
       "      <td>45474</td>\n",
       "      <td>September 24, 2024</td>\n",
       "    </tr>\n",
       "    <tr>\n",
       "      <th>2</th>\n",
       "      <td>Fiction</td>\n",
       "      <td>51958</td>\n",
       "      <td>Welcome to the Hyunam-Dong Bookshop</td>\n",
       "      <td>Yeongju is burned out. With her high-flying ca...</td>\n",
       "      <td>Hwang Bo-Reum</td>\n",
       "      <td>Hwang Bo-reum studied Computer Science and wor...</td>\n",
       "      <td>307</td>\n",
       "      <td>3.92</td>\n",
       "      <td>68741</td>\n",
       "      <td>13013</td>\n",
       "      <td>January 17, 2022</td>\n",
       "    </tr>\n",
       "    <tr>\n",
       "      <th>3</th>\n",
       "      <td>Fiction</td>\n",
       "      <td>50659</td>\n",
       "      <td>Blue Sisters</td>\n",
       "      <td>Three estranged siblings return to their famil...</td>\n",
       "      <td>Coco Mellors</td>\n",
       "      <td>Coco Mellors is a writer from London. She move...</td>\n",
       "      <td>352</td>\n",
       "      <td>3.94</td>\n",
       "      <td>225619</td>\n",
       "      <td>31039</td>\n",
       "      <td>May 23, 2024</td>\n",
       "    </tr>\n",
       "    <tr>\n",
       "      <th>4</th>\n",
       "      <td>Fiction</td>\n",
       "      <td>48432</td>\n",
       "      <td>Here One Moment</td>\n",
       "      <td>\\nIf you knew your future, would you try to fi...</td>\n",
       "      <td>Liane Moriarty</td>\n",
       "      <td>Liane Moriarty is the author of the #1 New Yor...</td>\n",
       "      <td>512</td>\n",
       "      <td>4.01</td>\n",
       "      <td>230073</td>\n",
       "      <td>23896</td>\n",
       "      <td>September 10, 2024</td>\n",
       "    </tr>\n",
       "  </tbody>\n",
       "</table>\n",
       "</div>"
      ],
      "text/plain": [
       "  category  votes                                title  \\\n",
       "0  Fiction  94733                   The Wedding People   \n",
       "1  Fiction  67268                           Intermezzo   \n",
       "2  Fiction  51958  Welcome to the Hyunam-Dong Bookshop   \n",
       "3  Fiction  50659                         Blue Sisters   \n",
       "4  Fiction  48432                      Here One Moment   \n",
       "\n",
       "                                         description     author_name  \\\n",
       "0  Alternate cover edition of ISBN 9781250899576....   Alison Espach   \n",
       "1  An exquisitely moving story about grief, love,...    Sally Rooney   \n",
       "2  Yeongju is burned out. With her high-flying ca...   Hwang Bo-Reum   \n",
       "3  Three estranged siblings return to their famil...    Coco Mellors   \n",
       "4  \\nIf you knew your future, would you try to fi...  Liane Moriarty   \n",
       "\n",
       "                                        author_about pages  rating  ratings  \\\n",
       "0  Alison Espach grew up in Trumbull, Connecticut...   384    4.11   678267   \n",
       "1  Sally Rooney was born in 1991 and lives in Dub...   454    3.85   263221   \n",
       "2  Hwang Bo-reum studied Computer Science and wor...   307    3.92    68741   \n",
       "3  Coco Mellors is a writer from London. She move...   352    3.94   225619   \n",
       "4  Liane Moriarty is the author of the #1 New Yor...   512    4.01   230073   \n",
       "\n",
       "   reviews    publication_info  \n",
       "0    75724       July 30, 2024  \n",
       "1    45474  September 24, 2024  \n",
       "2    13013    January 17, 2022  \n",
       "3    31039        May 23, 2024  \n",
       "4    23896  September 10, 2024  "
      ]
     },
     "metadata": {},
     "output_type": "display_data"
    }
   ],
   "source": [
    "display(df.head())"
   ]
  },
  {
   "cell_type": "code",
   "execution_count": 96,
   "id": "1b3eb0bb",
   "metadata": {},
   "outputs": [
    {
     "data": {
      "text/plain": [
       "(300, 11)"
      ]
     },
     "execution_count": 96,
     "metadata": {},
     "output_type": "execute_result"
    }
   ],
   "source": [
    "df.shape"
   ]
  },
  {
   "cell_type": "code",
   "execution_count": 97,
   "id": "f47302be",
   "metadata": {},
   "outputs": [
    {
     "name": "stdout",
     "output_type": "stream",
     "text": [
      "<class 'pandas.core.frame.DataFrame'>\n",
      "RangeIndex: 300 entries, 0 to 299\n",
      "Data columns (total 11 columns):\n",
      " #   Column            Non-Null Count  Dtype  \n",
      "---  ------            --------------  -----  \n",
      " 0   category          300 non-null    object \n",
      " 1   votes             300 non-null    int64  \n",
      " 2   title             300 non-null    object \n",
      " 3   description       300 non-null    object \n",
      " 4   author_name       300 non-null    object \n",
      " 5   author_about      251 non-null    object \n",
      " 6   pages             300 non-null    object \n",
      " 7   rating            300 non-null    float64\n",
      " 8   ratings           300 non-null    int64  \n",
      " 9   reviews           300 non-null    int64  \n",
      " 10  publication_info  300 non-null    object \n",
      "dtypes: float64(1), int64(3), object(7)\n",
      "memory usage: 25.9+ KB\n"
     ]
    }
   ],
   "source": [
    "df.info()"
   ]
  },
  {
   "cell_type": "code",
   "execution_count": 98,
   "id": "d4ac0167",
   "metadata": {},
   "outputs": [
    {
     "data": {
      "text/plain": [
       "category             0\n",
       "votes                0\n",
       "title                0\n",
       "description          0\n",
       "author_name          0\n",
       "author_about        49\n",
       "pages                0\n",
       "rating               0\n",
       "ratings              0\n",
       "reviews              0\n",
       "publication_info     0\n",
       "dtype: int64"
      ]
     },
     "execution_count": 98,
     "metadata": {},
     "output_type": "execute_result"
    }
   ],
   "source": [
    "df.isna().sum()"
   ]
  },
  {
   "cell_type": "markdown",
   "id": "02b32b78",
   "metadata": {},
   "source": [
    "There are many empty values in 'author_about' column. Hence, we drop this column."
   ]
  },
  {
   "cell_type": "code",
   "execution_count": 99,
   "id": "3d3a1690",
   "metadata": {},
   "outputs": [],
   "source": [
    "df.drop(columns = ['author_about'], inplace = True)"
   ]
  },
  {
   "cell_type": "code",
   "execution_count": 100,
   "id": "e447ad22",
   "metadata": {},
   "outputs": [
    {
     "data": {
      "text/plain": [
       "category            0\n",
       "votes               0\n",
       "title               0\n",
       "description         0\n",
       "author_name         0\n",
       "pages               0\n",
       "rating              0\n",
       "ratings             0\n",
       "reviews             0\n",
       "publication_info    0\n",
       "dtype: int64"
      ]
     },
     "execution_count": 100,
     "metadata": {},
     "output_type": "execute_result"
    }
   ],
   "source": [
    "df.isnull().sum()"
   ]
  },
  {
   "cell_type": "markdown",
   "id": "5baf7ed8",
   "metadata": {},
   "source": [
    "There are no columns with null values"
   ]
  },
  {
   "cell_type": "code",
   "execution_count": 101,
   "id": "a4a00f9d",
   "metadata": {},
   "outputs": [
    {
     "name": "stdout",
     "output_type": "stream",
     "text": [
      "0\n"
     ]
    }
   ],
   "source": [
    "print(df.duplicated().sum())"
   ]
  },
  {
   "cell_type": "markdown",
   "id": "99751a36",
   "metadata": {},
   "source": [
    "None of the rows have duplicate values, hence we have nothing to drop"
   ]
  },
  {
   "cell_type": "code",
   "execution_count": 102,
   "id": "285e1447",
   "metadata": {},
   "outputs": [],
   "source": [
    "# pages is an object type, but can be converted to numeric type\n",
    "df['pages'] = pd.to_numeric(df['pages'], errors='coerce')"
   ]
  },
  {
   "cell_type": "code",
   "execution_count": 103,
   "id": "330af5cd",
   "metadata": {},
   "outputs": [],
   "source": [
    "# publication_info column has date information, and is converted to datetime type\n",
    "df['publication_info'] = pd.to_datetime(df['publication_info'], errors='coerce')"
   ]
  },
  {
   "cell_type": "code",
   "execution_count": 104,
   "id": "2cc3e72a",
   "metadata": {},
   "outputs": [],
   "source": [
    "# list of text columns to normalize\n",
    "text_cols = ['category', 'title', 'description', 'author_name']\n",
    "\n",
    "for col in text_cols:\n",
    "    df[col] = (\n",
    "        df[col]\n",
    "        .astype(str)  # all values converted to string\n",
    "        .str.lower()  # lowercase\n",
    "        .str.strip()  # remove leading/trailing whitespace\n",
    "        .str.replace(r'\\s+', ' ', regex=True)  # replace multiple spaces with one\n",
    "    )"
   ]
  },
  {
   "cell_type": "code",
   "execution_count": 105,
   "id": "3f4fd145",
   "metadata": {},
   "outputs": [
    {
     "data": {
      "image/png": "[encoded data removed]",
      "text/plain": [
       "<Figure size 1500x800 with 5 Axes>"
      ]
     },
     "metadata": {},
     "output_type": "display_data"
    }
   ],
   "source": [
    "# list of numeric columns to visualize for outliers\n",
    "numeric_cols = ['votes', 'pages', 'rating', 'ratings', 'reviews']\n",
    "\n",
    "plt.figure(figsize=(15, 8))\n",
    "for i, col in enumerate(numeric_cols, 1):\n",
    "    plt.subplot(2, 3, i)\n",
    "    df.boxplot(column=col)\n",
    "    plt.title(col)\n",
    "plt.tight_layout()\n",
    "plt.show()"
   ]
  },
  {
   "cell_type": "markdown",
   "id": "77af7478",
   "metadata": {},
   "source": [
    "Outliers are not dropped as high values of ratings, reviews, and votes is not uncommon for popularity metrics. "
   ]
  },
  {
   "cell_type": "markdown",
   "id": "43615ff7",
   "metadata": {},
   "source": [
    "There are many books with very low page counts, hence these are investigated to find data inaccuracies"
   ]
  },
  {
   "cell_type": "code",
   "execution_count": 106,
   "id": "2bc84651",
   "metadata": {},
   "outputs": [
    {
     "name": "stdout",
     "output_type": "stream",
     "text": [
      "      category                           title         author_name  pages\n",
      "180  audiobook                     funny story         emily henry   11.0\n",
      "181  audiobook                       the women      kristin hannah   15.0\n",
      "182  audiobook             just for the summer                  ab   12.0\n",
      "185  audiobook        somewhere beyond the sea          t.j. klune   16.0\n",
      "187  audiobook                           james    percival everett    8.0\n",
      "191  audiobook  from here to the great unknown  lisa marie presley    6.0\n",
      "192  audiobook          the anxious generation      jonathan haidt   11.0\n",
      "194  audiobook                 bits and pieces     whoopi goldberg    7.0\n",
      "198  audiobook                 maybe this time        cara bastone    6.0\n",
      "199  audiobook    revenge of the tipping point    malcolm gladwell    9.0\n",
      "Empty DataFrame\n",
      "Columns: [category, title, author_name, pages]\n",
      "Index: []\n",
      "      category                           title       author_name  pages\n",
      "183  audiobook              listen for the lie       amy tintera    NaN\n",
      "186  audiobook                  first lie wins     ashley elston    NaN\n",
      "188  audiobook        the small and the mighty    sharon mcmahon    NaN\n",
      "189  audiobook                we solve murders     richard osman    NaN\n",
      "190  audiobook  be ready when the luck happens        ina garten    NaN\n",
      "193  audiobook                      intermezzo      sally rooney    NaN\n",
      "195  audiobook                 here one moment    liane moriarty    NaN\n",
      "196  audiobook                    it's not you  ramani durvasula    NaN\n",
      "197  audiobook                  oath and honor        liz cheney    NaN\n"
     ]
    }
   ],
   "source": [
    "# Show books with 0 or very low page counts (e.g., less than 50)\n",
    "low_page_books = df[df['pages'] < 50]\n",
    "print(low_page_books[['category', 'title', 'author_name', 'pages']])\n",
    "\n",
    "# Show books with exactly 0 pages\n",
    "zero_page_books = df[df['pages'] == 0]\n",
    "print(zero_page_books[['category', 'title', 'author_name', 'pages']])\n",
    "\n",
    "# Show books with missing (NaN) page counts\n",
    "missing_page_books = df[df['pages'].isna()]\n",
    "print(missing_page_books[['category', 'title', 'author_name', 'pages']])"
   ]
  },
  {
   "cell_type": "markdown",
   "id": "7b2106a1",
   "metadata": {},
   "source": [
    "We find that all books with low or NaN page counts are audiobooks. Since page numbers are not applicable for audiobooks anyway, we set all page values for audiobooks as NaN. During analysis, these rows can be excluded by excluding books with category == 'audiobook'."
   ]
  },
  {
   "cell_type": "code",
   "execution_count": 107,
   "id": "a234ba0c",
   "metadata": {},
   "outputs": [],
   "source": [
    "df.loc[df['category'] == 'audiobook', 'pages'] = np.nan"
   ]
  },
  {
   "cell_type": "code",
   "execution_count": 108,
   "id": "0ae5e197",
   "metadata": {},
   "outputs": [
    {
     "data": {
      "text/plain": [
       "category             0\n",
       "votes                0\n",
       "title                0\n",
       "description          0\n",
       "author_name          0\n",
       "pages               20\n",
       "rating               0\n",
       "ratings              0\n",
       "reviews              0\n",
       "publication_info     2\n",
       "dtype: int64"
      ]
     },
     "execution_count": 108,
     "metadata": {},
     "output_type": "execute_result"
    }
   ],
   "source": [
    "df.isna().sum()"
   ]
  },
  {
   "cell_type": "markdown",
   "id": "b3241cb1",
   "metadata": {},
   "source": [
    "The 20 books with NaN values are audiobooks as found earlier."
   ]
  },
  {
   "cell_type": "code",
   "execution_count": 109,
   "id": "c2029b39",
   "metadata": {},
   "outputs": [
    {
     "name": "stdout",
     "output_type": "stream",
     "text": [
      "                            title    author_name publication_info\n",
      "178                 shred sisters   betsy lerner              NaT\n",
      "256  how to tell when we will die  johanna hedva              NaT\n"
     ]
    }
   ],
   "source": [
    "missing_pages = df[df['publication_info'].isna()]\n",
    "print(missing_pages[['title', 'author_name', 'publication_info']])"
   ]
  },
  {
   "cell_type": "code",
   "execution_count": 110,
   "id": "a66b43ec",
   "metadata": {},
   "outputs": [],
   "source": [
    "df.loc[(df['title'] == 'shred sisters'), 'publication_info'] = pd.to_datetime('2024-10-01')\n",
    "df.loc[(df['title'] == 'how to tell when we will die'), 'publication_info'] = pd.to_datetime('2024-09-24')"
   ]
  },
  {
   "cell_type": "markdown",
   "id": "ed9bf825",
   "metadata": {},
   "source": [
    "The missing/incorrect publication info was found through online search and corrected."
   ]
  },
  {
   "cell_type": "code",
   "execution_count": 111,
   "id": "e6fae809",
   "metadata": {},
   "outputs": [
    {
     "name": "stdout",
     "output_type": "stream",
     "text": [
      "['fiction' 'historical fiction' 'mystery & thriller' 'romance' 'romantasy'\n",
      " 'fantasy' 'science fiction' 'horror' 'debut novel' 'audiobook'\n",
      " 'young adult fantasy' 'young adult fiction' 'nonfiction' 'memoir'\n",
      " 'history & biography']\n",
      "category\n",
      "fiction                20\n",
      "historical fiction     20\n",
      "mystery & thriller     20\n",
      "romance                20\n",
      "romantasy              20\n",
      "fantasy                20\n",
      "science fiction        20\n",
      "horror                 20\n",
      "debut novel            20\n",
      "audiobook              20\n",
      "young adult fantasy    20\n",
      "young adult fiction    20\n",
      "nonfiction             20\n",
      "memoir                 20\n",
      "history & biography    20\n",
      "Name: count, dtype: int64\n"
     ]
    }
   ],
   "source": [
    "print(df['category'].unique())\n",
    "print(df['category'].value_counts())"
   ]
  },
  {
   "cell_type": "markdown",
   "id": "94629113",
   "metadata": {},
   "source": [
    "This shows that there are no inconsistencies in the category names"
   ]
  },
  {
   "cell_type": "code",
   "execution_count": 112,
   "id": "68374f0b",
   "metadata": {},
   "outputs": [],
   "source": [
    "df.to_csv('../data/cleaned_books.csv')"
   ]
  }
 ],
 "metadata": {
  "kernelspec": {
   "display_name": "Python 3",
   "language": "python",
   "name": "python3"
  },
  "language_info": {
   "codemirror_mode": {
    "name": "ipython",
    "version": 3
   },
   "file_extension": ".py",
   "mimetype": "text/x-python",
   "name": "python",
   "nbconvert_exporter": "python",
   "pygments_lexer": "ipython3",
   "version": "3.11.9"
  }
 },
 "nbformat": 4,
 "nbformat_minor": 5
}

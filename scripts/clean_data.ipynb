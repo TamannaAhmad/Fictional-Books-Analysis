{
 "cells": [
  {
   "cell_type": "code",
   "execution_count": 1,
   "id": "5b25da16",
   "metadata": {},
   "outputs": [],
   "source": [
    "import pandas as pd"
   ]
  },
  {
   "cell_type": "code",
   "execution_count": null,
   "id": "23802887",
   "metadata": {},
   "outputs": [],
   "source": [
    "df = pd.read_csv('../data/books.csv')"
   ]
  },
  {
   "cell_type": "code",
   "execution_count": null,
   "id": "1293db14",
   "metadata": {},
   "outputs": [
    {
     "data": {
      "text/html": [
       "<div>\n",
       "<style scoped>\n",
       "    .dataframe tbody tr th:only-of-type {\n",
       "        vertical-align: middle;\n",
       "    }\n",
       "\n",
       "    .dataframe tbody tr th {\n",
       "        vertical-align: top;\n",
       "    }\n",
       "\n",
       "    .dataframe thead th {\n",
       "        text-align: right;\n",
       "    }\n",
       "</style>\n",
       "<table border=\"1\" class=\"dataframe\">\n",
       "  <thead>\n",
       "    <tr style=\"text-align: right;\">\n",
       "      <th></th>\n",
       "      <th>category</th>\n",
       "      <th>votes</th>\n",
       "      <th>title</th>\n",
       "      <th>description</th>\n",
       "      <th>author_name</th>\n",
       "      <th>author_about</th>\n",
       "      <th>avatar_url</th>\n",
       "      <th>pages</th>\n",
       "      <th>rating</th>\n",
       "      <th>ratings</th>\n",
       "      <th>reviews</th>\n",
       "      <th>publication_info</th>\n",
       "      <th>img_url</th>\n",
       "      <th>book_url</th>\n",
       "    </tr>\n",
       "  </thead>\n",
       "  <tbody>\n",
       "    <tr>\n",
       "      <th>0</th>\n",
       "      <td>Fiction</td>\n",
       "      <td>94733</td>\n",
       "      <td>The Wedding People</td>\n",
       "      <td>Alternate cover edition of ISBN 9781250899576....</td>\n",
       "      <td>Alison Espach</td>\n",
       "      <td>Alison Espach grew up in Trumbull, Connecticut...</td>\n",
       "      <td>/_next/image?url=https%3A%2F%2Fi.gr-assets.com...</td>\n",
       "      <td>384</td>\n",
       "      <td>4.11</td>\n",
       "      <td>677444</td>\n",
       "      <td>75622</td>\n",
       "      <td>July 30, 2024</td>\n",
       "      <td>https://i.gr-assets.com/images/S/compressed.ph...</td>\n",
       "      <td>https://www.goodreads.com/book/show/198902277-...</td>\n",
       "    </tr>\n",
       "    <tr>\n",
       "      <th>1</th>\n",
       "      <td>Fiction</td>\n",
       "      <td>67268</td>\n",
       "      <td>Intermezzo</td>\n",
       "      <td>An exquisitely moving story about grief, love,...</td>\n",
       "      <td>Sally Rooney</td>\n",
       "      <td>Sally Rooney was born in 1991 and lives in Dub...</td>\n",
       "      <td>/_next/image?url=https%3A%2F%2Fi.gr-assets.com...</td>\n",
       "      <td>454</td>\n",
       "      <td>3.85</td>\n",
       "      <td>263017</td>\n",
       "      <td>45448</td>\n",
       "      <td>September 24, 2024</td>\n",
       "      <td>https://i.gr-assets.com/images/S/compressed.ph...</td>\n",
       "      <td>https://www.goodreads.com/book/show/208931300-...</td>\n",
       "    </tr>\n",
       "    <tr>\n",
       "      <th>2</th>\n",
       "      <td>Fiction</td>\n",
       "      <td>51958</td>\n",
       "      <td>Welcome to the Hyunam-Dong Bookshop</td>\n",
       "      <td>Yeongju is burned out. With her high-flying ca...</td>\n",
       "      <td>Hwang Bo-Reum</td>\n",
       "      <td>Hwang Bo-reum studied Computer Science and wor...</td>\n",
       "      <td>/_next/image?url=https%3A%2F%2Fi.gr-assets.com...</td>\n",
       "      <td>307</td>\n",
       "      <td>3.92</td>\n",
       "      <td>68708</td>\n",
       "      <td>13005</td>\n",
       "      <td>January 17, 2022</td>\n",
       "      <td>https://i.gr-assets.com/images/S/compressed.ph...</td>\n",
       "      <td>https://www.goodreads.com/book/show/133938826-...</td>\n",
       "    </tr>\n",
       "    <tr>\n",
       "      <th>3</th>\n",
       "      <td>Fiction</td>\n",
       "      <td>50659</td>\n",
       "      <td>Blue Sisters</td>\n",
       "      <td>Three estranged siblings return to their famil...</td>\n",
       "      <td>Coco Mellors</td>\n",
       "      <td>Coco Mellors is a writer from London. She move...</td>\n",
       "      <td>/_next/image?url=https%3A%2F%2Fi.gr-assets.com...</td>\n",
       "      <td>352</td>\n",
       "      <td>3.94</td>\n",
       "      <td>225424</td>\n",
       "      <td>31018</td>\n",
       "      <td>May 23, 2024</td>\n",
       "      <td>https://i.gr-assets.com/images/S/compressed.ph...</td>\n",
       "      <td>https://www.goodreads.com/book/show/195430687-...</td>\n",
       "    </tr>\n",
       "    <tr>\n",
       "      <th>4</th>\n",
       "      <td>Fiction</td>\n",
       "      <td>48432</td>\n",
       "      <td>Here One Moment</td>\n",
       "      <td>Les passagers du vol Hobart-Sydney patientent ...</td>\n",
       "      <td>Liane Moriarty</td>\n",
       "      <td>Liane Moriarty is the author of the #1 New Yor...</td>\n",
       "      <td>/_next/image?url=https%3A%2F%2Fi.gr-assets.com...</td>\n",
       "      <td>512</td>\n",
       "      <td>4.01</td>\n",
       "      <td>229959</td>\n",
       "      <td>23884</td>\n",
       "      <td>September 10, 2024</td>\n",
       "      <td>https://i.gr-assets.com/images/S/compressed.ph...</td>\n",
       "      <td>https://www.goodreads.com/book/show/208516656-...</td>\n",
       "    </tr>\n",
       "  </tbody>\n",
       "</table>\n",
       "</div>"
      ],
      "text/plain": [
       "  category  votes                                title  \\\n",
       "0  Fiction  94733                   The Wedding People   \n",
       "1  Fiction  67268                           Intermezzo   \n",
       "2  Fiction  51958  Welcome to the Hyunam-Dong Bookshop   \n",
       "3  Fiction  50659                         Blue Sisters   \n",
       "4  Fiction  48432                      Here One Moment   \n",
       "\n",
       "                                         description     author_name  \\\n",
       "0  Alternate cover edition of ISBN 9781250899576....   Alison Espach   \n",
       "1  An exquisitely moving story about grief, love,...    Sally Rooney   \n",
       "2  Yeongju is burned out. With her high-flying ca...   Hwang Bo-Reum   \n",
       "3  Three estranged siblings return to their famil...    Coco Mellors   \n",
       "4  Les passagers du vol Hobart-Sydney patientent ...  Liane Moriarty   \n",
       "\n",
       "                                        author_about  \\\n",
       "0  Alison Espach grew up in Trumbull, Connecticut...   \n",
       "1  Sally Rooney was born in 1991 and lives in Dub...   \n",
       "2  Hwang Bo-reum studied Computer Science and wor...   \n",
       "3  Coco Mellors is a writer from London. She move...   \n",
       "4  Liane Moriarty is the author of the #1 New Yor...   \n",
       "\n",
       "                                          avatar_url pages  rating  ratings  \\\n",
       "0  /_next/image?url=https%3A%2F%2Fi.gr-assets.com...   384    4.11   677444   \n",
       "1  /_next/image?url=https%3A%2F%2Fi.gr-assets.com...   454    3.85   263017   \n",
       "2  /_next/image?url=https%3A%2F%2Fi.gr-assets.com...   307    3.92    68708   \n",
       "3  /_next/image?url=https%3A%2F%2Fi.gr-assets.com...   352    3.94   225424   \n",
       "4  /_next/image?url=https%3A%2F%2Fi.gr-assets.com...   512    4.01   229959   \n",
       "\n",
       "   reviews    publication_info  \\\n",
       "0    75622       July 30, 2024   \n",
       "1    45448  September 24, 2024   \n",
       "2    13005    January 17, 2022   \n",
       "3    31018        May 23, 2024   \n",
       "4    23884  September 10, 2024   \n",
       "\n",
       "                                             img_url  \\\n",
       "0  https://i.gr-assets.com/images/S/compressed.ph...   \n",
       "1  https://i.gr-assets.com/images/S/compressed.ph...   \n",
       "2  https://i.gr-assets.com/images/S/compressed.ph...   \n",
       "3  https://i.gr-assets.com/images/S/compressed.ph...   \n",
       "4  https://i.gr-assets.com/images/S/compressed.ph...   \n",
       "\n",
       "                                            book_url  \n",
       "0  https://www.goodreads.com/book/show/198902277-...  \n",
       "1  https://www.goodreads.com/book/show/208931300-...  \n",
       "2  https://www.goodreads.com/book/show/133938826-...  \n",
       "3  https://www.goodreads.com/book/show/195430687-...  \n",
       "4  https://www.goodreads.com/book/show/208516656-...  "
      ]
     },
     "metadata": {},
     "output_type": "display_data"
    }
   ],
   "source": [
    "display(df.head())"
   ]
  },
  {
   "cell_type": "code",
   "execution_count": 8,
   "id": "1b3eb0bb",
   "metadata": {},
   "outputs": [
    {
     "data": {
      "text/plain": [
       "(300, 14)"
      ]
     },
     "execution_count": 8,
     "metadata": {},
     "output_type": "execute_result"
    }
   ],
   "source": [
    "df.shape"
   ]
  },
  {
   "cell_type": "code",
   "execution_count": 12,
   "id": "f47302be",
   "metadata": {},
   "outputs": [
    {
     "name": "stdout",
     "output_type": "stream",
     "text": [
      "<class 'pandas.core.frame.DataFrame'>\n",
      "RangeIndex: 300 entries, 0 to 299\n",
      "Data columns (total 14 columns):\n",
      " #   Column            Non-Null Count  Dtype  \n",
      "---  ------            --------------  -----  \n",
      " 0   category          300 non-null    object \n",
      " 1   votes             300 non-null    int64  \n",
      " 2   title             300 non-null    object \n",
      " 3   description       300 non-null    object \n",
      " 4   author_name       300 non-null    object \n",
      " 5   author_about      251 non-null    object \n",
      " 6   avatar_url        300 non-null    object \n",
      " 7   pages             300 non-null    object \n",
      " 8   rating            300 non-null    float64\n",
      " 9   ratings           300 non-null    int64  \n",
      " 10  reviews           300 non-null    int64  \n",
      " 11  publication_info  300 non-null    object \n",
      " 12  img_url           300 non-null    object \n",
      " 13  book_url          300 non-null    object \n",
      "dtypes: float64(1), int64(3), object(10)\n",
      "memory usage: 32.9+ KB\n"
     ]
    }
   ],
   "source": [
    "df.info()"
   ]
  },
  {
   "cell_type": "code",
   "execution_count": 11,
   "id": "d4ac0167",
   "metadata": {},
   "outputs": [
    {
     "data": {
      "text/plain": [
       "category             0\n",
       "votes                0\n",
       "title                0\n",
       "description          0\n",
       "author_name          0\n",
       "author_about        49\n",
       "avatar_url           0\n",
       "pages                0\n",
       "rating               0\n",
       "ratings              0\n",
       "reviews              0\n",
       "publication_info     0\n",
       "img_url              0\n",
       "book_url             0\n",
       "dtype: int64"
      ]
     },
     "execution_count": 11,
     "metadata": {},
     "output_type": "execute_result"
    }
   ],
   "source": [
    "df.isna().sum()"
   ]
  },
  {
   "cell_type": "code",
   "execution_count": 13,
   "id": "55b50da8",
   "metadata": {},
   "outputs": [],
   "source": [
    "df.drop(columns = ['author_about'], inplace = True)"
   ]
  },
  {
   "cell_type": "code",
   "execution_count": 14,
   "id": "a4a00f9d",
   "metadata": {},
   "outputs": [
    {
     "data": {
      "text/plain": [
       "np.int64(0)"
      ]
     },
     "execution_count": 14,
     "metadata": {},
     "output_type": "execute_result"
    }
   ],
   "source": [
    "df.duplicated().sum()"
   ]
  },
  {
   "cell_type": "code",
   "execution_count": 18,
   "id": "68374f0b",
   "metadata": {},
   "outputs": [],
   "source": [
    "df.to_csv('../data/cleaned_books.csv')"
   ]
  }
 ],
 "metadata": {
  "kernelspec": {
   "display_name": "Python 3",
   "language": "python",
   "name": "python3"
  },
  "language_info": {
   "codemirror_mode": {
    "name": "ipython",
    "version": 3
   },
   "file_extension": ".py",
   "mimetype": "text/x-python",
   "name": "python",
   "nbconvert_exporter": "python",
   "pygments_lexer": "ipython3",
   "version": "3.11.9"
  }
 },
 "nbformat": 4,
 "nbformat_minor": 5
}
